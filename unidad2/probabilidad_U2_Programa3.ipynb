{
  "nbformat": 4,
  "nbformat_minor": 0,
  "metadata": {
    "colab": {
      "provenance": [],
      "authorship_tag": "ABX9TyNCpuWsRaEHHI8on5KLxc7J",
      "include_colab_link": true
    },
    "kernelspec": {
      "name": "python3",
      "display_name": "Python 3"
    },
    "language_info": {
      "name": "python"
    }
  },
  "cells": [
    {
      "cell_type": "markdown",
      "metadata": {
        "id": "view-in-github",
        "colab_type": "text"
      },
      "source": [
        "<a href=\"https://colab.research.google.com/github/Andymlndz/PoyEs/blob/main/unidad2/probabilidad_U2_Programa3.ipynb\" target=\"_parent\"><img src=\"https://colab.research.google.com/assets/colab-badge.svg\" alt=\"Open In Colab\"/></a>"
      ]
    },
    {
      "cell_type": "code",
      "execution_count": 5,
      "metadata": {
        "id": "mblkVOYayrEq"
      },
      "outputs": [],
      "source": [
        "import math"
      ]
    },
    {
      "cell_type": "code",
      "source": [
        "n = 10  # número total de asistentes\n",
        "r = 4   # número de asistentes a elegir\n",
        "\n",
        "permutaciones = math.factorial(n) // math.factorial(n - r)\n",
        "\n",
        "print(f\"El número de maneras de elegir {r} asistentes de {n} disponibles es: {permutaciones}\")"
      ],
      "metadata": {
        "colab": {
          "base_uri": "https://localhost:8080/"
        },
        "id": "SAECnuvGzTeT",
        "outputId": "b97d9756-d28f-40ad-bd1e-e6eee9a2fd85"
      },
      "execution_count": 6,
      "outputs": [
        {
          "output_type": "stream",
          "name": "stdout",
          "text": [
            "El número de maneras de elegir 4 asistentes de 10 disponibles es: 5040\n"
          ]
        }
      ]
    }
  ]
}