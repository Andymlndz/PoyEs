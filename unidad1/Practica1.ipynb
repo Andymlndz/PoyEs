{
  "nbformat": 4,
  "nbformat_minor": 0,
  "metadata": {
    "colab": {
      "provenance": [],
      "authorship_tag": "ABX9TyPzitjHVtSCXTju0E7iRlcx",
      "include_colab_link": true
    },
    "kernelspec": {
      "name": "python3",
      "display_name": "Python 3"
    },
    "language_info": {
      "name": "python"
    }
  },
  "cells": [
    {
      "cell_type": "markdown",
      "metadata": {
        "id": "view-in-github",
        "colab_type": "text"
      },
      "source": [
        "<a href=\"https://colab.research.google.com/github/Andymlndz/PoyEs/blob/main/unidad1/Practica1.ipynb\" target=\"_parent\"><img src=\"https://colab.research.google.com/assets/colab-badge.svg\" alt=\"Open In Colab\"/></a>"
      ]
    },
    {
      "cell_type": "markdown",
      "source": [
        "![image](https://github.com/JoseGabriel-ITD/Probabilidad-y-Estadistica/blob/main/Cintilla2004.png?raw=true)\n",
        "\n",
        "# **Probabilidad y estadistica**\n",
        "\n",
        "## Unidad 1\n",
        "\n",
        "### Practica 1\n",
        "\n",
        "### Facilitador: *Dr. José Gabriel Rodríguez Rivas*\n",
        "\n",
        "### Alumno: Itzel Andrea Melendez Arrieta"
      ],
      "metadata": {
        "id": "ACxBml8t_jjn"
      }
    },
    {
      "cell_type": "code",
      "execution_count": null,
      "metadata": {
        "id": "QZLVUO_D2MLJ"
      },
      "outputs": [],
      "source": [
        "from statistics import *"
      ]
    },
    {
      "cell_type": "code",
      "source": [
        "#Lista de calificaciones del grupo a\n",
        "grupoa=[70,70,65,90,100,95,45,80,73,20,100,96]\n",
        "print(grupoa)"
      ],
      "metadata": {
        "colab": {
          "base_uri": "https://localhost:8080/"
        },
        "id": "j31nuoRs20ov",
        "outputId": "46d14186-b66e-4962-cbb4-0f0fa6aad221"
      },
      "execution_count": null,
      "outputs": [
        {
          "output_type": "stream",
          "name": "stdout",
          "text": [
            "[70, 70, 65, 90, 100, 95, 45, 80, 73, 20, 100, 96]\n"
          ]
        }
      ]
    },
    {
      "cell_type": "code",
      "source": [
        "type(grupoa)"
      ],
      "metadata": {
        "colab": {
          "base_uri": "https://localhost:8080/"
        },
        "id": "zpLvmCRK3XgG",
        "outputId": "3c6db529-8b98-4951-fa16-fe85e34a1cbf"
      },
      "execution_count": null,
      "outputs": [
        {
          "output_type": "execute_result",
          "data": {
            "text/plain": [
              "list"
            ]
          },
          "metadata": {},
          "execution_count": 3
        }
      ]
    },
    {
      "cell_type": "code",
      "source": [
        "promedio= sum(grupoa)/len(grupoa)\n",
        "print(promedio)"
      ],
      "metadata": {
        "colab": {
          "base_uri": "https://localhost:8080/"
        },
        "id": "fGXyyiQN4EF7",
        "outputId": "9be2148c-f39d-4797-efb2-06f15a83afe5"
      },
      "execution_count": null,
      "outputs": [
        {
          "output_type": "stream",
          "name": "stdout",
          "text": [
            "75.33333333333333\n"
          ]
        }
      ]
    },
    {
      "cell_type": "code",
      "source": [
        "promedio2=mean(grupoa)\n",
        "print(promedio2)"
      ],
      "metadata": {
        "colab": {
          "base_uri": "https://localhost:8080/"
        },
        "id": "dc42Uu9F4k1F",
        "outputId": "d3db185b-7ead-40f3-b24e-421616aaa199"
      },
      "execution_count": null,
      "outputs": [
        {
          "output_type": "stream",
          "name": "stdout",
          "text": [
            "75.33333333333333\n"
          ]
        }
      ]
    },
    {
      "cell_type": "code",
      "source": [
        "mediana=median(grupoa)\n",
        "print(mediana)"
      ],
      "metadata": {
        "colab": {
          "base_uri": "https://localhost:8080/"
        },
        "id": "f7vjXc5v471K",
        "outputId": "89adebc4-ced2-4f53-b5bb-3aed5d1f02de"
      },
      "execution_count": null,
      "outputs": [
        {
          "output_type": "stream",
          "name": "stdout",
          "text": [
            "76.5\n"
          ]
        }
      ]
    },
    {
      "cell_type": "code",
      "source": [
        "moda=mode(grupoa)\n",
        "print(moda)"
      ],
      "metadata": {
        "colab": {
          "base_uri": "https://localhost:8080/"
        },
        "id": "PT7lSjMM5fwj",
        "outputId": "19816d7c-42b0-4c02-c927-409cfef8d771"
      },
      "execution_count": null,
      "outputs": [
        {
          "output_type": "stream",
          "name": "stdout",
          "text": [
            "70\n"
          ]
        }
      ]
    },
    {
      "cell_type": "code",
      "source": [
        "moda2=multimode(grupoa)\n",
        "print(moda2)"
      ],
      "metadata": {
        "colab": {
          "base_uri": "https://localhost:8080/"
        },
        "id": "KrUxLWs75xPV",
        "outputId": "3ee14ed1-7211-4272-fd09-fac3066c68e1"
      },
      "execution_count": null,
      "outputs": [
        {
          "output_type": "stream",
          "name": "stdout",
          "text": [
            "[70, 100]\n"
          ]
        }
      ]
    },
    {
      "cell_type": "code",
      "source": [
        "tiempos100mts=[15.10,17.20,14.69,13.27,22.15,18.71,19.15,20.65,15.10,17.20]\n",
        "print(tiempos100mts)"
      ],
      "metadata": {
        "colab": {
          "base_uri": "https://localhost:8080/"
        },
        "id": "8fJKY5GY6KqJ",
        "outputId": "9238294a-3e02-4aa5-edd3-bb370cf51b0c"
      },
      "execution_count": null,
      "outputs": [
        {
          "output_type": "stream",
          "name": "stdout",
          "text": [
            "[15.1, 17.2, 14.69, 13.27, 22.15, 18.71, 19.15, 20.65, 15.1, 17.2]\n"
          ]
        }
      ]
    },
    {
      "cell_type": "code",
      "source": [
        "print(\"El tiempo promedio de los corredores es=> \", mean (tiempos100mts))\n"
      ],
      "metadata": {
        "colab": {
          "base_uri": "https://localhost:8080/"
        },
        "id": "6NadR83K64ou",
        "outputId": "e68ab93f-35ab-49ad-8afe-e7bf7c85a10a"
      },
      "execution_count": null,
      "outputs": [
        {
          "output_type": "stream",
          "name": "stdout",
          "text": [
            "El tiempo promedio de los corredores es=>  17.322\n"
          ]
        }
      ]
    },
    {
      "cell_type": "code",
      "source": [
        "mediana=median(tiempos100mts)\n",
        "print(\"La media  de los tiempos de los corredores es=> \", mediana)"
      ],
      "metadata": {
        "colab": {
          "base_uri": "https://localhost:8080/"
        },
        "id": "Or9PHxMC7aTv",
        "outputId": "aa9e24de-4239-4f9a-826a-34886946d00a"
      },
      "execution_count": null,
      "outputs": [
        {
          "output_type": "stream",
          "name": "stdout",
          "text": [
            "La media  de los tiempos de los corredores es=>  17.2\n"
          ]
        }
      ]
    },
    {
      "cell_type": "code",
      "source": [
        "moda=mode(tiempos100mts)\n",
        "print(\"La moda de los tiempos es=>\",moda)"
      ],
      "metadata": {
        "colab": {
          "base_uri": "https://localhost:8080/"
        },
        "id": "iWtNNhj179EM",
        "outputId": "0193a380-7d51-44ba-8f59-04f433c3a468"
      },
      "execution_count": null,
      "outputs": [
        {
          "output_type": "stream",
          "name": "stdout",
          "text": [
            "La moda de los tiempos es=> 15.1\n"
          ]
        }
      ]
    },
    {
      "cell_type": "code",
      "source": [
        "multimoda=multimode(tiempos100mts)\n",
        "print(\"La multi moda de los tiempos es=>\",multimoda)"
      ],
      "metadata": {
        "colab": {
          "base_uri": "https://localhost:8080/"
        },
        "id": "eX5aqpyM8V_E",
        "outputId": "2c0fa709-33ad-4bf9-e172-113ac7ea0884"
      },
      "execution_count": null,
      "outputs": [
        {
          "output_type": "stream",
          "name": "stdout",
          "text": [
            "La multi moda de los tiempos es=> [15.1, 17.2]\n"
          ]
        }
      ]
    },
    {
      "cell_type": "code",
      "source": [
        "import random"
      ],
      "metadata": {
        "id": "rnkOr9p-8wKi"
      },
      "execution_count": null,
      "outputs": []
    },
    {
      "cell_type": "code",
      "source": [
        "fabrica1=[]\n",
        "for i in range(100):\n",
        "  numero_aleatorio = round(random.uniform(50, 100), 2 )\n",
        "  fabrica1.append(numero_aleatorio)\n",
        "print(fabrica1)"
      ],
      "metadata": {
        "colab": {
          "base_uri": "https://localhost:8080/"
        },
        "id": "Hczkd3lF9Jdm",
        "outputId": "e64fa034-5bec-45f4-db37-ff91e0f3ce02"
      },
      "execution_count": null,
      "outputs": [
        {
          "output_type": "stream",
          "name": "stdout",
          "text": [
            "[59.48, 97.56, 68.99, 67.26, 54.87, 74.15, 50.42, 67.56, 64.93, 53.85, 98.48, 91.92, 79.54, 65.05, 95.31, 65.16, 92.74, 56.74, 87.15, 53.27, 80.68, 63.95, 93.61, 52.89, 71.8, 88.86, 58.29, 54.79, 62.36, 51.44, 74.64, 88.91, 78.02, 78.81, 86.25, 60.32, 54.63, 94.29, 84.31, 67.5, 71.62, 53.55, 83.7, 55.4, 68.08, 72.03, 78.92, 95.81, 50.8, 76.75, 65.24, 87.13, 67.48, 99.1, 85.95, 94.78, 91.15, 98.55, 68.51, 88.06, 85.53, 92.65, 66.69, 74.02, 68.61, 57.38, 99.75, 77.87, 57.72, 72.88, 96.14, 52.12, 53.36, 60.59, 83.6, 99.66, 72.22, 63.61, 57.71, 75.16, 82.72, 63.36, 52.58, 91.94, 50.2, 65.58, 88.72, 62.66, 99.87, 62.62, 71.39, 51.17, 96.69, 78.65, 57.72, 66.02, 74.9, 64.24, 98.56, 94.69]\n"
          ]
        }
      ]
    },
    {
      "cell_type": "code",
      "source": [
        "fabrica2=[]\n",
        "for i in range (100) :\n",
        "  numero_aleatorio2 = round(random.uniform(40, 93), 2 )\n",
        "  fabrica2.append(numero_aleatorio2)\n",
        "print(fabrica2)"
      ],
      "metadata": {
        "colab": {
          "base_uri": "https://localhost:8080/"
        },
        "id": "-wUEgG8NCXVz",
        "outputId": "d5e90659-a200-43a5-a284-bc4071e4ced9"
      },
      "execution_count": null,
      "outputs": [
        {
          "output_type": "stream",
          "name": "stdout",
          "text": [
            "[50.92, 81.14, 46.57, 69.31, 67.93, 65.79, 63.43, 92.68, 78.88, 69.71, 49.93, 74.47, 68.21, 47.35, 82.76, 51.66, 91.63, 46.65, 74.1, 48.45, 76.2, 49.68, 89.19, 50.38, 60.73, 55.4, 54.29, 58.28, 55.54, 57.61, 44.6, 42.68, 83.59, 54.27, 68.06, 56.57, 58.53, 44.94, 52.22, 74.52, 92.54, 65.12, 86.26, 79.22, 49.09, 69.26, 88.69, 59.57, 72.3, 51.04, 66.08, 54.98, 45.97, 72.16, 53.74, 87.9, 86.91, 62.81, 64.36, 80.85, 68.7, 91.1, 61.63, 61.61, 54.95, 55.04, 81.31, 82.11, 67.53, 77.76, 56.14, 91.74, 57.81, 69.79, 50.89, 49.43, 46.59, 74.29, 46.0, 67.61, 42.21, 77.71, 60.09, 44.12, 69.55, 70.62, 58.61, 76.62, 91.42, 77.93, 43.59, 91.92, 92.23, 89.61, 61.44, 48.65, 79.77, 88.42, 57.86, 81.68]\n"
          ]
        }
      ]
    },
    {
      "cell_type": "code",
      "source": [
        "import matplotlib.pyplot as plt\n"
      ],
      "metadata": {
        "id": "7kqEEyuzDQr-"
      },
      "execution_count": null,
      "outputs": []
    },
    {
      "cell_type": "code",
      "source": [
        "import matplotlib.pyplot as plt\n",
        "plt.hist(fabrica1)\n",
        "plt.title(\"Produccion diaria de la fabrica 1\")"
      ],
      "metadata": {
        "colab": {
          "base_uri": "https://localhost:8080/",
          "height": 469
        },
        "id": "C_X_uvXsDdvI",
        "outputId": "759709c0-5f92-4a9b-8113-2029f16eccfe"
      },
      "execution_count": null,
      "outputs": [
        {
          "output_type": "execute_result",
          "data": {
            "text/plain": [
              "Text(0.5, 1.0, 'Produccion diaria de la fabrica 1')"
            ]
          },
          "metadata": {},
          "execution_count": 21
        },
        {
          "output_type": "display_data",
          "data": {
            "text/plain": [
              "<Figure size 640x480 with 1 Axes>"
            ],
            "image/png": "[encoded data removed]"
          },
          "metadata": {}
        }
      ]
    },
    {
      "cell_type": "code",
      "source": [
        "import matplotlib.pyplot as plt\n",
        "plt.hist(fabrica2)\n",
        "plt.title(\"Produccion diaria de la fabrica 2\")"
      ],
      "metadata": {
        "colab": {
          "base_uri": "https://localhost:8080/",
          "height": 469
        },
        "id": "Rj6dPyu6FhPp",
        "outputId": "85cd7a21-1489-4acc-e5bb-6c4dc1bf48b9"
      },
      "execution_count": null,
      "outputs": [
        {
          "output_type": "execute_result",
          "data": {
            "text/plain": [
              "Text(0.5, 1.0, 'Produccion diaria de la fabrica 2')"
            ]
          },
          "metadata": {},
          "execution_count": 23
        },
        {
          "output_type": "display_data",
          "data": {
            "text/plain": [
              "<Figure size 640x480 with 1 Axes>"
            ],
            "image/png": "[encoded data removed]"
          },
          "metadata": {}
        }
      ]
    },
    {
      "cell_type": "code",
      "source": [
        "from statistics import *\n",
        "\n",
        "media1 = mean(fabrica1)\n",
        "mediana1 = median(fabrica1)\n",
        "moda1 = mode(fabrica1)\n",
        "\n",
        "print(\"Valores de la fabrica 1\")\n",
        "print(\"La media de la fabrica 1 es=>\",media1)\n",
        "print(\"La mediana de la fabrica 1 es=>\",mediana1)\n",
        "print(\"La moda de la fabrica 1 es=>\",moda1)"
      ],
      "metadata": {
        "colab": {
          "base_uri": "https://localhost:8080/"
        },
        "id": "rx32CfSjFn_2",
        "outputId": "c375e138-6f9c-4791-e1aa-c2603959b262"
      },
      "execution_count": null,
      "outputs": [
        {
          "output_type": "stream",
          "name": "stdout",
          "text": [
            "Valores de la fabrica 1\n",
            "La media de la fabrica 1 es=> 73.8494\n",
            "La mediana de la fabrica 1 es=> 71.91499999999999\n",
            "La moda de la fabrica 1 es=> 57.72\n"
          ]
        }
      ]
    },
    {
      "cell_type": "code",
      "source": [
        "media2 = mean(fabrica2)\n",
        "mediana2 = median(fabrica2)\n",
        "moda2 = mode(fabrica2)\n",
        "\n",
        "print(\"Valores de la fabrica 2\")\n",
        "print(\"La media de la fabrica 2 es=>\",media2)\n",
        "print(\"La mediana de la fabrica 2 es=>\",mediana2)\n",
        "print(\"La moda de la fabrica 2 es=>\",moda2)"
      ],
      "metadata": {
        "colab": {
          "base_uri": "https://localhost:8080/"
        },
        "id": "Jfa2bHn3HRRi",
        "outputId": "b7beb79f-054b-4385-c713-132c881a558c"
      },
      "execution_count": null,
      "outputs": [
        {
          "output_type": "stream",
          "name": "stdout",
          "text": [
            "Valores de la fabrica 2\n",
            "La media de la fabrica 2 es=> 66.1378\n",
            "La mediana de la fabrica 2 es=> 65.45500000000001\n",
            "La moda de la fabrica 2 es=> 50.92\n"
          ]
        }
      ]
    },
    {
      "cell_type": "code",
      "source": [
        "fig, (ax1, ax2) = plt.subplots(nrows = 1, ncols = 2, figsize = (10, 5))\n",
        "ax1. hist(fabrica1)\n",
        "ax2.hist(fabrica2)\n",
        "plt. show()"
      ],
      "metadata": {
        "colab": {
          "base_uri": "https://localhost:8080/",
          "height": 445
        },
        "id": "tksX4WueHotY",
        "outputId": "18c9f1c6-dd22-48eb-aaba-fd463d48e9fe"
      },
      "execution_count": null,
      "outputs": [
        {
          "output_type": "display_data",
          "data": {
            "text/plain": [
              "<Figure size 1000x500 with 2 Axes>"
            ],
            "image/png": "[encoded data removed]"
          },
          "metadata": {}
        }
      ]
    },
    {
      "cell_type": "code",
      "source": [
        "plt.hist(fabrica1, bins=10, alpha=0.2, color='b', edgecolor = \"black\")\n",
        "plt.axvline(media1, color='b', linestyle='dashed', linewidth=2, label='Media')\n",
        "plt.axvline(mediana1, color='r', linestyle='dashed', linewidth=2, label=\"Mediana\")\n",
        "plt.axvline(moda1, color='y', linestyle='dashed', linewidth=2, label='Moda')\n",
        "plt.xlabel ('Valor')\n",
        "plt.ylabel('Frecuencia')\n",
        "plt.title(\"Producción diaria de la fabrica 1\")\n",
        "plt.legend()\n",
        "plt.show()"
      ],
      "metadata": {
        "colab": {
          "base_uri": "https://localhost:8080/",
          "height": 472
        },
        "id": "himxL8vIIepl",
        "outputId": "f9e2dd6a-5b7e-4a8d-d6c3-90c7e19d03e1"
      },
      "execution_count": null,
      "outputs": [
        {
          "output_type": "display_data",
          "data": {
            "text/plain": [
              "<Figure size 640x480 with 1 Axes>"
            ],
            "image/png": "[encoded data removed]"
          },
          "metadata": {}
        }
      ]
    },
    {
      "cell_type": "code",
      "source": [
        "plt.hist(fabrica2, bins=10, alpha=0.2, color='b', edgecolor = \"black\")\n",
        "plt.axvline(media2, color='b', linestyle='dashed', linewidth=2, label='Media')\n",
        "plt.axvline(mediana2, color='r', linestyle='dashed', linewidth=2, label=\"Mediana\")\n",
        "plt.axvline(moda2, color='y', linestyle='dashed', linewidth=2, label='Moda')\n",
        "plt.xlabel ('Valor')\n",
        "plt.ylabel('Frecuencia')\n",
        "plt.title(\"Producción diaria de la fabrica 2\")\n",
        "plt.legend()\n",
        "plt.show()"
      ],
      "metadata": {
        "colab": {
          "base_uri": "https://localhost:8080/",
          "height": 472
        },
        "id": "mWPOk7BeJPBU",
        "outputId": "9dfa0501-59d1-4f67-c149-8b46a4d305fd"
      },
      "execution_count": null,
      "outputs": [
        {
          "output_type": "display_data",
          "data": {
            "text/plain": [
              "<Figure size 640x480 with 1 Axes>"
            ],
            "image/png": "[encoded data removed]"
          },
          "metadata": {}
        }
      ]
    }
  ]
}